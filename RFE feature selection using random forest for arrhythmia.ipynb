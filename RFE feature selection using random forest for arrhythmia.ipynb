{
 "cells": [
  {
   "cell_type": "code",
   "execution_count": 1,
   "metadata": {},
   "outputs": [],
   "source": [
    "import pandas as pd\n",
    "import numpy as np\n",
    "from sklearn import model_selection\n",
    "from sklearn.feature_selection import RFE\n",
    "from sklearn.preprocessing import StandardScaler\n",
    "from sklearn.preprocessing import MinMaxScaler\n",
    "from sklearn.ensemble import RandomForestClassifier"
   ]
  },
  {
   "cell_type": "code",
   "execution_count": 2,
   "metadata": {},
   "outputs": [],
   "source": [
    "url=\"https://archive.ics.uci.edu/ml/machine-learning-databases/arrhythmia/arrhythmia.data\"\n",
    "#names=\"https://archive.ics.uci.edu/ml/machine-learning-databases/arrhythmia/arrhythmia.names\"\n",
    "arrhythmia=pd.read_csv(url)\n"
   ]
  },
  {
   "cell_type": "code",
   "execution_count": 3,
   "metadata": {},
   "outputs": [
    {
     "data": {
      "text/plain": [
       "(451, 280)"
      ]
     },
     "execution_count": 3,
     "metadata": {},
     "output_type": "execute_result"
    }
   ],
   "source": [
    "df=arrhythmia.copy()\n",
    "df.shape"
   ]
  },
  {
   "cell_type": "code",
   "execution_count": 4,
   "metadata": {},
   "outputs": [
    {
     "name": "stdout",
     "output_type": "stream",
     "text": [
      "(451, 280)\n",
      "   0    1    2    3    4    5    6    7    8    9   ...   270   271  272  273  \\\n",
      "0   56    1  165   64   81  174  401  149   39   25 ...   0.0   8.5  0.0  0.0   \n",
      "1   54    0  172   95  138  163  386  185  102   96 ...   0.0   9.5 -2.4  0.0   \n",
      "2   55    0  175   94  100  202  380  179  143   28 ...   0.0  12.2 -2.2  0.0   \n",
      "3   75    0  190   80   88  181  360  177  103  -16 ...   0.0  13.1 -3.6  0.0   \n",
      "4   13    0  169   51  100  167  321  174   91  107 ...  -0.6  12.2 -2.8  0.0   \n",
      "\n",
      "   274  275  276   277   278  279  \n",
      "0  0.0  0.2  2.1  20.4  38.8    6  \n",
      "1  0.0  0.3  3.4  12.3  49.0   10  \n",
      "2  0.0  0.4  2.6  34.6  61.6    1  \n",
      "3  0.0 -0.1  3.9  25.4  62.8    7  \n",
      "4  0.0  0.9  2.2  13.5  31.1   14  \n",
      "\n",
      "[5 rows x 280 columns]\n"
     ]
    },
    {
     "data": {
      "text/plain": [
       "5"
      ]
     },
     "execution_count": 4,
     "metadata": {},
     "output_type": "execute_result"
    }
   ],
   "source": [
    "df.columns=[i for i in range(280)]\n",
    "print(df.shape)\n",
    "print(df.head())\n",
    "df.describe() #Missing Attribute Values: Several.  Distinguished with '?'.\n",
    "(df.dtypes==object).sum() #there are 5 columns with missing values "
   ]
  },
  {
   "cell_type": "code",
   "execution_count": 5,
   "metadata": {},
   "outputs": [],
   "source": [
    "df.drop([10,11,12,13,14],axis=1,inplace=True)#dropping cols with missing values\n",
    "df.columns=[i for i in range(275)]"
   ]
  },
  {
   "cell_type": "code",
   "execution_count": 18,
   "metadata": {},
   "outputs": [
    {
     "data": {
      "text/plain": [
       "13"
      ]
     },
     "execution_count": 18,
     "metadata": {},
     "output_type": "execute_result"
    }
   ],
   "source": [
    "data=df.values\n",
    "X=data[:,:274]\n",
    "Y=data[:,274]\n",
    "X_train,X_test,Y_train,Y_test=model_selection.train_test_split(X,Y,test_size=0.2,random_state=0)\n",
    "scaler=StandardScaler()\n",
    "X_train_scaled=scaler.fit_transform(X_train)\n",
    "X_test_scaled=scaler.transform(X_test)\n",
    "num_feature=len(df.columns)-1\n",
    "len(set(Y))"
   ]
  },
  {
   "cell_type": "code",
   "execution_count": 19,
   "metadata": {},
   "outputs": [
    {
     "name": "stdout",
     "output_type": "stream",
     "text": [
      "Feature Ranking: [  1  91  39   1   1   1   1   1   1   1 104  61  71 110  90  40 125 122\n",
      " 107 126 121  99  66  16  80 134 114  37 128 116 133 105 127 109  60  27\n",
      "  81  92 117  23 150 113 123 171 138 166  73  34  97 148 158  96 192 202\n",
      " 147 120 210 129 112  14  75 207 131   3 187 153 212 197 213 191  85   1\n",
      " 189 145 199  21 141 157 159 167 194 211 132   1  88   1 205  29 177 222\n",
      " 137 169 219 102  84  89  74  76 215  13 193 130 168 200 179 111 106  33\n",
      "   1 146 136  20 221 118 172 152 135 174 184 162  57 217 165  86 183 140\n",
      " 164 203 209 156 119  58  46 163 180   2 225 224 220 218 216 214  94  65\n",
      "  78 198 196  45 190 188 186 182 178 176  26 195  10  30 161 160  17   1\n",
      "   1  25   1   1  38  56 175 143   1  12   1  70  44   1  41 103 208 204\n",
      "  31   6   1  82  11  62  28  64 100 155  35   1  53   1   1 185  24  98\n",
      "  87 139  51   1  36  19  15   1  48  42 142 154  22   5  67   4  52  79\n",
      "   1  63   1 206   8  43   1  77   1  95   1   1   1 149   9   1   1   1\n",
      "   1  93   1   1 170 181  47   1   1   1   1 124   1  68 223 151  49   1\n",
      "  83  50   1 144   7  69 201 173   1   1   1  59  54  72  18  55 115 108\n",
      "  32   1 101   1]\n"
     ]
    },
    {
     "data": {
      "text/plain": [
       "[0,\n",
       " 3,\n",
       " 4,\n",
       " 5,\n",
       " 6,\n",
       " 7,\n",
       " 8,\n",
       " 9,\n",
       " 71,\n",
       " 83,\n",
       " 85,\n",
       " 108,\n",
       " 161,\n",
       " 162,\n",
       " 164,\n",
       " 165,\n",
       " 170,\n",
       " 172,\n",
       " 175,\n",
       " 182,\n",
       " 191,\n",
       " 193,\n",
       " 194,\n",
       " 201,\n",
       " 205,\n",
       " 216,\n",
       " 218,\n",
       " 222,\n",
       " 224,\n",
       " 226,\n",
       " 227,\n",
       " 228,\n",
       " 231,\n",
       " 232,\n",
       " 233,\n",
       " 234,\n",
       " 236,\n",
       " 237,\n",
       " 241,\n",
       " 242,\n",
       " 243,\n",
       " 244,\n",
       " 246,\n",
       " 251,\n",
       " 254,\n",
       " 260,\n",
       " 261,\n",
       " 262,\n",
       " 271,\n",
       " 273]"
      ]
     },
     "execution_count": 19,
     "metadata": {},
     "output_type": "execute_result"
    }
   ],
   "source": [
    "rnd=RandomForestClassifier()\n",
    "rfe = RFE(rnd, 50)\n",
    "fit = rfe.fit(X_train_scaled, Y_train)\n",
    "l=[]\n",
    "print((\"Feature Ranking: %s\") % fit.ranking_)\n",
    "for i in range(len(fit.ranking_)):\n",
    "    if(fit.ranking_[i]==1):\n",
    "        l.append(i)\n",
    "l"
   ]
  },
  {
   "cell_type": "code",
   "execution_count": 20,
   "metadata": {},
   "outputs": [
    {
     "data": {
      "text/plain": [
       "(91, 224)"
      ]
     },
     "execution_count": 20,
     "metadata": {},
     "output_type": "execute_result"
    }
   ],
   "source": [
    "X_train_scaled=np.delete(X_train_scaled,l,1)\n",
    "X_test_scaled=np.delete(X_test_scaled,l,1)\n",
    "X_train_scaled.shape\n",
    "X_test_scaled.shape"
   ]
  },
  {
   "cell_type": "code",
   "execution_count": 21,
   "metadata": {},
   "outputs": [
    {
     "name": "stdout",
     "output_type": "stream",
     "text": [
      "1.0\n"
     ]
    },
    {
     "data": {
      "text/plain": [
       "0.7362637362637363"
      ]
     },
     "execution_count": 21,
     "metadata": {},
     "output_type": "execute_result"
    }
   ],
   "source": [
    "rnd=RandomForestClassifier(n_estimators=100,max_depth=22)\n",
    "rnd.fit(X_train_scaled,Y_train)\n",
    "print(rnd.score(X_train_scaled,Y_train))\n",
    "rnd.score(X_test_scaled,Y_test)"
   ]
  }
 ],
 "metadata": {
  "kernelspec": {
   "display_name": "Python 3",
   "language": "python",
   "name": "python3"
  },
  "language_info": {
   "codemirror_mode": {
    "name": "ipython",
    "version": 3
   },
   "file_extension": ".py",
   "mimetype": "text/x-python",
   "name": "python",
   "nbconvert_exporter": "python",
   "pygments_lexer": "ipython3",
   "version": "3.6.5"
  }
 },
 "nbformat": 4,
 "nbformat_minor": 2
}
